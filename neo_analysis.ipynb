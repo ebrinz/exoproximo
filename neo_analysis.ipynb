{
 "cells": [
  {
   "cell_type": "code",
   "execution_count": 60,
   "metadata": {},
   "outputs": [],
   "source": [
    "# imports\n",
    "\n",
    "import os\n",
    "import glob\n",
    "import pandas as pd\n",
    "import numpy as np\n",
    "import xml.etree.ElementTree as ET\n",
    "from datetime import datetime\n",
    "\n",
    "from scipy.interpolate import interp1d\n",
    "from sklearn.preprocessing import StandardScaler\n",
    "\n",
    "import seaborn as sns\n",
    "import matplotlib.pyplot as plt\n",
    "\n"
   ]
  },
  {
   "cell_type": "markdown",
   "metadata": {},
   "source": [
    "# Import data"
   ]
  },
  {
   "cell_type": "code",
   "execution_count": null,
   "metadata": {},
   "outputs": [],
   "source": [
    "\n",
    "studies = [\n",
    "    'data/MITHNEOS/gbo.ast.mithneos.spectra_2000-2021_V1_0/data/binzel2019',\n",
    "    'data/MITHNEOS/gbo.ast.mithneos.spectra_2000-2021_V1_0/data/marsset2022',\n",
    "]\n",
    "\n",
    "# Initialize dictionaries to store data\n",
    "spectral_data = {}\n",
    "metadata = {}\n",
    "neo_data = {}\n",
    "\n",
    "for study in studies:\n",
    "    data_dir = f'./{study}/'\n",
    "    csv_files = glob.glob(os.path.join(data_dir, '*.csv'))\n",
    "    \n",
    "    for csv_file in csv_files:\n",
    "        # Extract the NEO ID from the filename\n",
    "        filename = os.path.basename(csv_file)\n",
    "        neo_id = filename.split('_')[0]  # Assuming filenames are like '433_20161028.csv'\n",
    "        \n",
    "        # Read the spectral data CSV file\n",
    "        data = pd.read_csv(csv_file, header=None, names=['Wavelength', 'Reflectance', 'Error'])\n",
    "        \n",
    "        # Read the corresponding XML file\n",
    "        xml_file = csv_file.replace('.csv', '.xml')\n",
    "        if os.path.exists(xml_file):\n",
    "            tree = ET.parse(xml_file)\n",
    "            root = tree.getroot()\n",
    "            \n",
    "            # Extract metadata from XML\n",
    "            namespace = {'ns': 'http://pds.nasa.gov/pds4/pds/v1'}\n",
    "            identification_area = root.find('ns:Identification_Area', namespace)\n",
    "            observation_area = root.find('ns:Observation_Area', namespace)\n",
    "            file_area = root.find('ns:File_Area_Observational', namespace)\n",
    "            \n",
    "            # Get logical_identifier (unique ID)\n",
    "            logical_id = identification_area.find('ns:logical_identifier', namespace).text\n",
    "            \n",
    "            # Get observation times\n",
    "            time_coords = observation_area.find('ns:Time_Coordinates', namespace)\n",
    "            start_time = time_coords.find('ns:start_date_time', namespace).text\n",
    "            stop_time = time_coords.find('ns:stop_date_time', namespace).text\n",
    "            \n",
    "            # Get target name\n",
    "            target_identification = observation_area.find('ns:Target_Identification', namespace)\n",
    "            target_name = target_identification.find('ns:name', namespace).text\n",
    "            \n",
    "            # Additional metadata can be extracted as needed\n",
    "            \n",
    "            # Store metadata\n",
    "            meta = {\n",
    "                'NEO_ID': neo_id,\n",
    "                'Logical_ID': logical_id,\n",
    "                'Start_Time': start_time,\n",
    "                'Stop_Time': stop_time,\n",
    "                'Target_Name': target_name,\n",
    "                'Study': study\n",
    "            }\n",
    "        else:\n",
    "            # Handle cases where XML file is missing\n",
    "            meta = {\n",
    "                'NEO_ID': neo_id,\n",
    "                'Logical_ID': None,\n",
    "                'Start_Time': None,\n",
    "                'Stop_Time': None,\n",
    "                'Target_Name': None,\n",
    "                'Study': study\n",
    "            }\n",
    "        \n",
    "        # Add the study and filename to the data\n",
    "        data['NEO_ID'] = neo_id\n",
    "        data['Study'] = study\n",
    "        data['Filename'] = filename\n",
    "        \n",
    "        # Merge data and metadata\n",
    "        data['Start_Time'] = meta['Start_Time']\n",
    "        data['Stop_Time'] = meta['Stop_Time']\n",
    "        data['Target_Name'] = meta['Target_Name']\n",
    "        \n",
    "        # Append to the spectral data dictionary\n",
    "        if neo_id in spectral_data:\n",
    "            spectral_data[neo_id] = pd.concat([spectral_data[neo_id], data])\n",
    "        else:\n",
    "            spectral_data[neo_id] = data\n",
    "        \n",
    "        # Store metadata\n",
    "        if neo_id in metadata:\n",
    "            metadata[neo_id].append(meta)\n",
    "        else:\n",
    "            metadata[neo_id] = [meta]\n",
    "\n"
   ]
  },
  {
   "cell_type": "markdown",
   "metadata": {},
   "source": [
    "### Read observation parameters"
   ]
  },
  {
   "cell_type": "code",
   "execution_count": 24,
   "metadata": {},
   "outputs": [],
   "source": [
    "\n",
    "marsset_meta_file = './data/MITHNEOS/gbo.ast.mithneos.spectra_2000-2021_V1_0/data/observationalparameters_marsset.csv'\n",
    "marsset_meta = pd.read_csv(marsset_meta_file, header=None, names=[\n",
    "    'ASTEROID_NUMBER',\n",
    "    'ASTEROID_DESIGNATION',\n",
    "    'ASTEROID_NAME',\n",
    "    'FILENAME',\n",
    "    'START_TIME_OBS',\n",
    "    'STOP_TIME_OBS',\n",
    "    'EXPOSURE_COUNT',\n",
    "    'TOTAL_INTEGRATION_TIME',\n",
    "    'RIGHT_ASCENSION',\n",
    "    'DECLINATION',\n",
    "    'AIRMASS',\n",
    "    'DISTANCE_GEOCENTRIC',\n",
    "    'DISTANCE_HELIOCENTRIC',\n",
    "    'APPARENT_V_MAG',\n",
    "    'SOLAR_PHASE_ANGLE',\n",
    "    'SOLAR_ANALOG_STAR'\n",
    "])\n",
    "\n",
    "binzel_meta_file = './data/MITHNEOS/gbo.ast.mithneos.spectra_2000-2021_V1_0/data/observationalparameters_marsset.csv'\n",
    "binzel_meta = pd.read_csv(binzel_meta_file, header=None, names=[\n",
    "    'ASTEROID_NUMBER',\n",
    "    'ASTEROID_DESIGNATION',\n",
    "    'ASTEROID_NAME',\n",
    "    'FILENAME',\n",
    "    'START_TIME_OBS',\n",
    "    'STOP_TIME_OBS',\n",
    "    'EXPOSURE_COUNT',\n",
    "    'TOTAL_INTEGRATION_TIME',\n",
    "    'RIGHT_ASCENSION',\n",
    "    'DECLINATION',\n",
    "    'AIRMASS',\n",
    "    'DISTANCE_GEOCENTRIC',\n",
    "    'DISTANCE_HELIOCENTRIC',\n",
    "    'APPARENT_V_MAG',\n",
    "    'SOLAR_PHASE_ANGLE',\n",
    "    'SOLAR_ANALOG_STAR'\n",
    "])\n",
    "\n",
    "marsset_meta['SOURCE'] = 'marsset'\n",
    "binzel_meta['SOURCE'] = 'binzel'\n",
    "\n",
    "combined_meta = pd.concat([marsset_meta, binzel_meta], ignore_index=True)"
   ]
  },
  {
   "cell_type": "markdown",
   "metadata": {},
   "source": [
    "### Merge data"
   ]
  },
  {
   "cell_type": "code",
   "execution_count": 25,
   "metadata": {},
   "outputs": [],
   "source": [
    "for neo_id in spectral_data:\n",
    "    data = spectral_data[neo_id]\n",
    "    filenames = data['Filename'].unique()\n",
    "    meta_df = combined_meta[combined_meta['FILENAME'].isin(filenames)]\n",
    "    if not meta_df.empty:\n",
    "        data = data.merge(meta_df, left_on='Filename', right_on='FILENAME', how='left')\n",
    "        \n",
    "    spectral_data[neo_id] = data"
   ]
  },
  {
   "cell_type": "markdown",
   "metadata": {},
   "source": [
    "### Formatting"
   ]
  },
  {
   "cell_type": "code",
   "execution_count": 18,
   "metadata": {},
   "outputs": [
    {
     "name": "stderr",
     "output_type": "stream",
     "text": [
      "/var/folders/b6/5kj2tkgn6vx8kxcyhfg6pf9c0000gn/T/ipykernel_4398/570522320.py:18: FutureWarning: errors='ignore' is deprecated and will raise in a future version. Use to_numeric without passing `errors` and catch exceptions explicitly instead\n",
      "  data = data.apply(pd.to_numeric, errors='ignore')\n"
     ]
    }
   ],
   "source": [
    "# timestamps\n",
    "\n",
    "for neo_id in spectral_data:\n",
    "    data = spectral_data[neo_id]\n",
    "    data['Start_Time'] = pd.to_datetime(data['Start_Time'])\n",
    "    data['Stop_Time'] = pd.to_datetime(data['Stop_Time'])\n",
    "    # data['START_TIME_OBS'] = pd.to_datetime(data['START_TIME_OBS'])\n",
    "    # data['STOP_TIME_OBS'] = pd.to_datetime(data['STOP_TIME_OBS'])\n",
    "\n",
    "    spectral_data[neo_id] = data\n",
    "\n",
    "\n",
    "# missing values\n",
    "\n",
    "for neo_id in spectral_data:\n",
    "    data = spectral_data[neo_id]\n",
    "    data.replace(['-1', '-'], [pd.NA, pd.NA], inplace=True)\n",
    "    data = data.apply(pd.to_numeric, errors='ignore')\n",
    "    \n",
    "    spectral_data[neo_id] = data"
   ]
  },
  {
   "cell_type": "markdown",
   "metadata": {},
   "source": [
    "### Make DataFrame"
   ]
  },
  {
   "cell_type": "code",
   "execution_count": 23,
   "metadata": {},
   "outputs": [
    {
     "data": {
      "text/html": [
       "<div>\n",
       "<style scoped>\n",
       "    .dataframe tbody tr th:only-of-type {\n",
       "        vertical-align: middle;\n",
       "    }\n",
       "\n",
       "    .dataframe tbody tr th {\n",
       "        vertical-align: top;\n",
       "    }\n",
       "\n",
       "    .dataframe thead th {\n",
       "        text-align: right;\n",
       "    }\n",
       "</style>\n",
       "<table border=\"1\" class=\"dataframe\">\n",
       "  <thead>\n",
       "    <tr style=\"text-align: right;\">\n",
       "      <th></th>\n",
       "      <th>Wavelength</th>\n",
       "      <th>Reflectance</th>\n",
       "      <th>Error</th>\n",
       "      <th>NEO_ID</th>\n",
       "      <th>Study</th>\n",
       "      <th>Filename</th>\n",
       "      <th>Start_Time</th>\n",
       "      <th>Stop_Time</th>\n",
       "      <th>Target_Name</th>\n",
       "    </tr>\n",
       "  </thead>\n",
       "  <tbody>\n",
       "    <tr>\n",
       "      <th>0</th>\n",
       "      <td>0.830</td>\n",
       "      <td>0.813</td>\n",
       "      <td>0.006</td>\n",
       "      <td>24445</td>\n",
       "      <td>data/MITHNEOS/gbo.ast.mithneos.spectra_2000-20...</td>\n",
       "      <td>24445_20031001.csv</td>\n",
       "      <td>1064986616000000000</td>\n",
       "      <td>1064990106000000000</td>\n",
       "      <td>(24445) 2000 PM8</td>\n",
       "    </tr>\n",
       "    <tr>\n",
       "      <th>1</th>\n",
       "      <td>0.835</td>\n",
       "      <td>0.804</td>\n",
       "      <td>0.005</td>\n",
       "      <td>24445</td>\n",
       "      <td>data/MITHNEOS/gbo.ast.mithneos.spectra_2000-20...</td>\n",
       "      <td>24445_20031001.csv</td>\n",
       "      <td>1064986616000000000</td>\n",
       "      <td>1064990106000000000</td>\n",
       "      <td>(24445) 2000 PM8</td>\n",
       "    </tr>\n",
       "    <tr>\n",
       "      <th>2</th>\n",
       "      <td>0.840</td>\n",
       "      <td>0.798</td>\n",
       "      <td>0.005</td>\n",
       "      <td>24445</td>\n",
       "      <td>data/MITHNEOS/gbo.ast.mithneos.spectra_2000-20...</td>\n",
       "      <td>24445_20031001.csv</td>\n",
       "      <td>1064986616000000000</td>\n",
       "      <td>1064990106000000000</td>\n",
       "      <td>(24445) 2000 PM8</td>\n",
       "    </tr>\n",
       "    <tr>\n",
       "      <th>3</th>\n",
       "      <td>0.845</td>\n",
       "      <td>0.791</td>\n",
       "      <td>0.005</td>\n",
       "      <td>24445</td>\n",
       "      <td>data/MITHNEOS/gbo.ast.mithneos.spectra_2000-20...</td>\n",
       "      <td>24445_20031001.csv</td>\n",
       "      <td>1064986616000000000</td>\n",
       "      <td>1064990106000000000</td>\n",
       "      <td>(24445) 2000 PM8</td>\n",
       "    </tr>\n",
       "    <tr>\n",
       "      <th>4</th>\n",
       "      <td>0.850</td>\n",
       "      <td>0.775</td>\n",
       "      <td>0.005</td>\n",
       "      <td>24445</td>\n",
       "      <td>data/MITHNEOS/gbo.ast.mithneos.spectra_2000-20...</td>\n",
       "      <td>24445_20031001.csv</td>\n",
       "      <td>1064986616000000000</td>\n",
       "      <td>1064990106000000000</td>\n",
       "      <td>(24445) 2000 PM8</td>\n",
       "    </tr>\n",
       "  </tbody>\n",
       "</table>\n",
       "</div>"
      ],
      "text/plain": [
       "   Wavelength  Reflectance  Error NEO_ID  \\\n",
       "0       0.830        0.813  0.006  24445   \n",
       "1       0.835        0.804  0.005  24445   \n",
       "2       0.840        0.798  0.005  24445   \n",
       "3       0.845        0.791  0.005  24445   \n",
       "4       0.850        0.775  0.005  24445   \n",
       "\n",
       "                                               Study            Filename  \\\n",
       "0  data/MITHNEOS/gbo.ast.mithneos.spectra_2000-20...  24445_20031001.csv   \n",
       "1  data/MITHNEOS/gbo.ast.mithneos.spectra_2000-20...  24445_20031001.csv   \n",
       "2  data/MITHNEOS/gbo.ast.mithneos.spectra_2000-20...  24445_20031001.csv   \n",
       "3  data/MITHNEOS/gbo.ast.mithneos.spectra_2000-20...  24445_20031001.csv   \n",
       "4  data/MITHNEOS/gbo.ast.mithneos.spectra_2000-20...  24445_20031001.csv   \n",
       "\n",
       "            Start_Time            Stop_Time       Target_Name  \n",
       "0  1064986616000000000  1064990106000000000  (24445) 2000 PM8  \n",
       "1  1064986616000000000  1064990106000000000  (24445) 2000 PM8  \n",
       "2  1064986616000000000  1064990106000000000  (24445) 2000 PM8  \n",
       "3  1064986616000000000  1064990106000000000  (24445) 2000 PM8  \n",
       "4  1064986616000000000  1064990106000000000  (24445) 2000 PM8  "
      ]
     },
     "execution_count": 23,
     "metadata": {},
     "output_type": "execute_result"
    }
   ],
   "source": [
    "all_data = pd.concat(spectral_data.values(), ignore_index=True)\n",
    "\n",
    "all_data.head()"
   ]
  },
  {
   "cell_type": "markdown",
   "metadata": {},
   "source": [
    "# Preprocessing and feature extraction"
   ]
  },
  {
   "cell_type": "markdown",
   "metadata": {},
   "source": [
    "### Normalization"
   ]
  },
  {
   "cell_type": "code",
   "execution_count": null,
   "metadata": {},
   "outputs": [],
   "source": [
    "# at 1\n",
    "\n",
    "def re_normalize_spectrum(data):\n",
    "    data = data[data['Reflectance'] != -1].copy()\n",
    "    data['Wavelength'] = data['Wavelength'].astype(float)\n",
    "    data['Reflectance'] = data['Reflectance'].astype(float)\n",
    "    norm_wavelength = 1.0  # microns\n",
    "    if norm_wavelength in data['Wavelength'].values:\n",
    "        norm_factor = data.loc[data['Wavelength'] == norm_wavelength, 'Reflectance'].values[0]\n",
    "    else:\n",
    "        norm_factor = np.interp(norm_wavelength, data['Wavelength'], data['Reflectance'])\n",
    "    if norm_factor == 0:\n",
    "        print(f\"Normalization factor is zero at wavelength {norm_wavelength} microns for NEO {data['NEO_ID'].iloc[0]}.\")\n",
    "        return data\n",
    "    data['Normalized_Reflectance'] = data['Reflectance'] / norm_factor\n",
    "    return data\n",
    "\n",
    "\n",
    "# alt approach of normalization over a range\n",
    "def re_normalize_spectrum_range(data, norm_wavelength, delta=0.02):\n",
    "    data = data[data['Reflectance'] != -1].copy()\n",
    "    data['Wavelength'] = data['Wavelength'].astype(float)\n",
    "    data['Reflectance'] = data['Reflectance'].astype(float)\n",
    "    lower_bound = norm_wavelength - delta\n",
    "    upper_bound = norm_wavelength + delta\n",
    "    mask = (data['Wavelength'] >= lower_bound) & (data['Wavelength'] <= upper_bound)\n",
    "    reflectance_values = data.loc[mask, 'Reflectance']\n",
    "    if reflectance_values.empty:\n",
    "        print(f\"No data available in the normalization range for NEO {data['NEO_ID'].iloc[0]}\")\n",
    "        return data\n",
    "    norm_factor = reflectance_values.mean()\n",
    "    data['Normalized_Reflectance'] = data['Reflectance'] / norm_factor\n",
    "    return data\n",
    "\n",
    "\n",
    "for neo_id in spectral_data:\n",
    "    data = spectral_data[neo_id]\n",
    "    normalized_data = re_normalize_spectrum(data)\n",
    "    # normalized_data = re_normalize_spectrum_range(data, norm_wavelength=1.0, delta=0.02)\n",
    "    spectral_data[neo_id] = normalized_data\n",
    "\n"
   ]
  },
  {
   "cell_type": "code",
   "execution_count": 51,
   "metadata": {},
   "outputs": [
    {
     "name": "stdout",
     "output_type": "stream",
     "text": [
      "Index(['Wavelength', 'Reflectance', 'Error', 'NEO_ID', 'Study', 'Filename',\n",
      "       'Start_Time', 'Stop_Time', 'Target_Name', 'Normalized_Reflectance'],\n",
      "      dtype='object')\n"
     ]
    },
    {
     "name": "stderr",
     "output_type": "stream",
     "text": [
      "/var/folders/b6/5kj2tkgn6vx8kxcyhfg6pf9c0000gn/T/ipykernel_4398/1526837363.py:1: DeprecationWarning: DataFrameGroupBy.apply operated on the grouping columns. This behavior is deprecated, and in a future version of pandas the grouping columns will be excluded from the operation. Either pass `include_groups=False` to exclude the groupings or explicitly select the grouping columns after groupby to silence this warning.\n",
      "  all_data = all_data.groupby(['Filename']).apply(re_normalize_spectrum).reset_index(drop=True)\n"
     ]
    }
   ],
   "source": [
    "all_data = all_data.groupby(['Filename']).apply(re_normalize_spectrum).reset_index(drop=True)\n",
    "print(all_data.columns)"
   ]
  },
  {
   "cell_type": "markdown",
   "metadata": {},
   "source": [
    "### Caliculate spectral slope"
   ]
  },
  {
   "cell_type": "code",
   "execution_count": 46,
   "metadata": {},
   "outputs": [],
   "source": [
    "def calculate_spectral_slope(data, start_wavelength, end_wavelength):\n",
    "    mask = (data['Wavelength'] >= start_wavelength) & (data['Wavelength'] <= end_wavelength)\n",
    "    wavelength_range = data.loc[mask, 'Wavelength']\n",
    "    reflectance_range = data.loc[mask, 'Normalized_Reflectance']\n",
    "    \n",
    "    if len(wavelength_range) < 2:\n",
    "        return np.nan\n",
    "    \n",
    "    slope_coeffs = np.polyfit(wavelength_range, reflectance_range, 1)\n",
    "    spectral_slope = slope_coeffs[0]\n",
    "    return spectral_slope\n",
    "\n",
    "\n",
    "# adjust for band-depth\n",
    "\n",
    "def calculate_band_depth(data, band_range):\n",
    "    mask = (data['Wavelength'] >= band_range[0]) & (data['Wavelength'] <= band_range[1])\n",
    "    band_data = data.loc[mask]\n",
    "    if band_data.empty:\n",
    "        return np.nan\n",
    "    wavelengths = band_data['Wavelength'].values\n",
    "    reflectance = band_data['Normalized_Reflectance'].values\n",
    "    left_edge = band_range[0]\n",
    "    right_edge = band_range[1]\n",
    "    left_reflectance = np.interp(left_edge, data['Wavelength'], data['Normalized_Reflectance'])\n",
    "    right_reflectance = np.interp(right_edge, data['Wavelength'], data['Normalized_Reflectance'])\n",
    "    continuum = interp1d([left_edge, right_edge], [left_reflectance, right_reflectance], kind='linear')\n",
    "    continuum_reflectance = continuum(wavelengths)\n",
    "    band_depth = 1 - (reflectance / continuum_reflectance)\n",
    "    max_band_depth = np.max(band_depth)\n",
    "    return max_band_depth\n",
    "\n",
    "def calculate_band_center(data, band_range):\n",
    "    mask = (data['Wavelength'] >= band_range[0]) & (data['Wavelength'] <= band_range[1])\n",
    "    band_data = data.loc[mask]\n",
    "    if band_data.empty:\n",
    "        return np.nan\n",
    "    wavelengths = band_data['Wavelength'].values\n",
    "    reflectance = band_data['Normalized_Reflectance'].values\n",
    "    left_edge = band_range[0]\n",
    "    right_edge = band_range[1]\n",
    "    left_reflectance = np.interp(left_edge, data['Wavelength'], data['Normalized_Reflectance'])\n",
    "    right_reflectance = np.interp(right_edge, data['Wavelength'], data['Normalized_Reflectance'])\n",
    "    continuum = interp1d([left_edge, right_edge], [left_reflectance, right_reflectance], kind='linear')\n",
    "    continuum_reflectance = continuum(wavelengths)\n",
    "    band_depth = 1 - (reflectance / continuum_reflectance)\n",
    "    band_center_index = np.argmax(band_depth)\n",
    "    band_center_wavelength = wavelengths[band_center_index]\n",
    "    return band_center_wavelength"
   ]
  },
  {
   "cell_type": "code",
   "execution_count": 47,
   "metadata": {},
   "outputs": [],
   "source": [
    "# get band info for band range (0.9-1.1 silicate materials)\n",
    "\n",
    "def extract_features(group):\n",
    "    wavelengths = group['Wavelength'].values\n",
    "    reflectance = group['Normalized_Reflectance'].values\n",
    "    \n",
    "    data = group.copy()\n",
    "    \n",
    "    # Recalculate Spectral Slope\n",
    "    spectral_slope = calculate_spectral_slope(data, start_wavelength=0.8, end_wavelength=1.5)\n",
    "    \n",
    "    # Calculate Band Depth at 1-micron Band (associated with silicates or olivene)\n",
    "    band_depth_1um = calculate_band_depth(data, band_range=(0.9, 1.1))\n",
    "    band_center_1um = calculate_band_center(data, band_range=(0.9, 1.1))\n",
    "\n",
    "    #  Calculate Band Depth at 2-micron Band: ~1.8 to 2.2 microns (associated with pyroxene minerals or pyroxene)\n",
    "    band_depth_2um = calculate_band_depth(data, band_range=(1.8, 2.2))\n",
    "    band_center_2um = calculate_band_center(data, band_range=(1.8, 2.2))\n",
    "    \n",
    "    # Calculate Mean Reflectance (optional, may not be necessary after normalization)\n",
    "    mean_reflectance = reflectance.mean()\n",
    "    \n",
    "    # Aggregate features\n",
    "    features = {\n",
    "        'NEO_ID': group['NEO_ID'].iloc[0],\n",
    "        'Spectral_Slope': spectral_slope,\n",
    "        'Band_Depth_1um': band_depth_1um,\n",
    "        'Band_Center_1um': band_center_1um,\n",
    "        'Band_Depth_2um': band_depth_2um,\n",
    "        'Band_Center_2um': band_center_2um,\n",
    "        'Mean_Reflectance': mean_reflectance\n",
    "    }\n",
    "    return pd.Series(features)\n",
    "\n"
   ]
  },
  {
   "cell_type": "markdown",
   "metadata": {},
   "source": [
    "### Apply to data\n",
    "\n",
    "Spectral Slope:\n",
    "\n",
    "A positive slope indicates increasing reflectance with wavelength (reddening), which may suggest certain types of asteroid compositions.\n",
    "A negative slope indicates decreasing reflectance with wavelength (bluing).\n",
    "\n",
    "Band Depth:\n",
    "\n",
    "Deeper bands (higher band depth values) suggest stronger absorption features, indicating the presence of specific minerals.\n",
    "For example, a significant 1-micron band depth may indicate silicate-rich asteroids."
   ]
  },
  {
   "cell_type": "code",
   "execution_count": 54,
   "metadata": {},
   "outputs": [
    {
     "name": "stderr",
     "output_type": "stream",
     "text": [
      "/var/folders/b6/5kj2tkgn6vx8kxcyhfg6pf9c0000gn/T/ipykernel_4398/2090991722.py:2: DeprecationWarning: DataFrameGroupBy.apply operated on the grouping columns. This behavior is deprecated, and in a future version of pandas the grouping columns will be excluded from the operation. Either pass `include_groups=False` to exclude the groupings or explicitly select the grouping columns after groupby to silence this warning.\n",
      "  features_df = all_data.groupby(['Filename']).apply(extract_features).reset_index()\n"
     ]
    }
   ],
   "source": [
    "# Apply the updated feature extraction function\n",
    "features_df = all_data.groupby(['Filename']).apply(extract_features).reset_index()\n",
    "\n",
    "neo_features = features_df.groupby('Filename').agg({\n",
    "    'Spectral_Slope': 'mean',\n",
    "    'Band_Depth_1um': 'mean',\n",
    "    'Band_Center_1um': 'mean',\n",
    "    'Band_Depth_2um': 'mean',\n",
    "    'Band_Center_2um': 'mean',\n",
    "    'Mean_Reflectance': 'mean'\n",
    "}).reset_index()"
   ]
  },
  {
   "cell_type": "code",
   "execution_count": 55,
   "metadata": {},
   "outputs": [],
   "source": [
    "\n",
    "feature_columns = [\n",
    "    'Spectral_Slope',\n",
    "    'Band_Depth_1um',\n",
    "    'Band_Center_1um',\n",
    "    'Band_Depth_2um',\n",
    "    'Band_Center_2um',\n",
    "    'Mean_Reflectance'\n",
    "]\n",
    "X = neo_features[feature_columns].dropna()\n",
    "\n",
    "scaler = StandardScaler()\n",
    "X_scaled = scaler.fit_transform(X)"
   ]
  },
  {
   "cell_type": "code",
   "execution_count": null,
   "metadata": {},
   "outputs": [
    {
     "data": {
      "image/png": "[encoded data removed]",
      "text/plain": [
       "<Figure size 640x480 with 2 Axes>"
      ]
     },
     "metadata": {},
     "output_type": "display_data"
    }
   ],
   "source": [
    "# a little chart action\n",
    "\n",
    "# Compute correlation matrix\n",
    "corr_matrix = neo_features[feature_columns].corr()\n",
    "\n",
    "sns.heatmap(corr_matrix, annot=True, cmap='coolwarm')\n",
    "plt.title('Feature Correlation Matrix')\n",
    "plt.show()"
   ]
  },
  {
   "cell_type": "markdown",
   "metadata": {},
   "source": [
    "# Anomaly detection"
   ]
  },
  {
   "cell_type": "code",
   "execution_count": null,
   "metadata": {},
   "outputs": [],
   "source": [
    "# code code code for anomalies"
   ]
  },
  {
   "cell_type": "markdown",
   "metadata": {},
   "source": [
    "### TODOs\n",
    "\n",
    "Principal Component Analysis (PCA):\n",
    "Reduce dimensionality and identify patterns in the spectral data.\n",
    "\n",
    "Spectral Unmixing:\n",
    "Use algorithms like Multiple Endmember Spectral Mixture Analysis (MESMA).\n",
    "\n",
    "Spectral Libraries:\n",
    "Match asteroid spectra to library spectra to infer composition.\n",
    "\n",
    "Combine spectral analysis with other asteroid characteristics (e.g., density, orbit, albedo)."
   ]
  }
 ],
 "metadata": {
  "kernelspec": {
   "display_name": "da_exoproximo",
   "language": "python",
   "name": "da_exoproximo"
  },
  "language_info": {
   "codemirror_mode": {
    "name": "ipython",
    "version": 3
   },
   "file_extension": ".py",
   "mimetype": "text/x-python",
   "name": "python",
   "nbconvert_exporter": "python",
   "pygments_lexer": "ipython3",
   "version": "3.11.10"
  }
 },
 "nbformat": 4,
 "nbformat_minor": 2
}
